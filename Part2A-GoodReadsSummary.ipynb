{
 "cells": [
  {
   "cell_type": "markdown",
   "metadata": {},
   "source": [
    "# Good Reads Summary\n",
    "\n",
    "#### The objective of this assignment is for you to explain what is happening in each cell in clear, understandable language. \n",
    "\n",
    "#### _There is no need to code._ The code is there for you, and it already runs. Your task is only to explain what each line in each cell does.\n",
    "\n",
    "#### The placeholder cells should describe what happens in the cell below it."
   ]
  },
  {
   "cell_type": "markdown",
   "metadata": {},
   "source": [
    "**Example**: The cell below imports `pandas` as a dependency because `pandas` functions will be used throughout the program, such as the Pandas `DataFrame` as well as the `read_csv` function."
   ]
  },
  {
   "cell_type": "code",
   "execution_count": null,
   "metadata": {},
   "outputs": [],
   "source": [
    "import pandas as pd"
   ]
  },
  {
   "cell_type": "markdown",
   "metadata": {},
   "source": [
    "_[The goodreads_path defines the path to locate the csv file that will be analyzed.  The goodreads_df variable name is being assigned to the csv file being imported as a data frame using the read_csv function attribute of pandas.  Next, a preview of the data is displayed using the .head() attribute of the data frame. The first five rows of the data will be displayed along with the relevant headers. The encoding information is necessary to ensure that the data is interpreted from the file appropriately by python.]_ "
   ]
  },
  {
   "cell_type": "code",
   "execution_count": null,
   "metadata": {},
   "outputs": [],
   "source": [
    "goodreads_path = \"Resources/books_clean.csv\"\n",
    "\n",
    "goodreads_df = pd.read_csv(goodreads_path, encoding=\"utf-8\")\n",
    "goodreads_df.head()"
   ]
  },
  {
   "cell_type": "markdown",
   "metadata": {},
   "source": [
    "_[This section calculates valuable data from the dataframe that was imported .  First, is to get a count of the unique authors from our data.  To do this, the Authors column is selected and using the unique() attribute of the dataframe, a list of the unique authors is obtained.  The len function of lists is utilized to get the total number of unique authors and assign this to the variable author_count. Next, an analysis of the publication year data is done by looking at the earliest year of publication for the books and the latest years respectively.  To do this, the Publication Year column of the dataframe is selected and the .min() function used to determine the earliest year and similarly, the .max() function to get the latest year.  These are respectively assigned to earliest_year and latest_year respectively. Next, to calculate the total reviews all the resepctive rating columns need to be totalled.  Seeing that each book has from one to five star ratings for its reviews, to find the total reviews, using iloc, start at the column index 4 (which is the fifth column in the file and the column which has one star ratings) and for the remaining columns(2 star to five star ratings), add the number of reviews on a column by column basis (since sum(axis=1)) and put this is in a column called \"Total Reviews\".  Finally, get the total of this row by using the sum function and assign this to a variable total_reviews.]_"
   ]
  },
  {
   "cell_type": "code",
   "execution_count": null,
   "metadata": {},
   "outputs": [],
   "source": [
    "author_count = len(goodreads_df[\"Authors\"].unique())\n",
    "\n",
    "earliest_year = goodreads_df[\"Publication Year\"].min()\n",
    "latest_year = goodreads_df[\"Publication Year\"].max()\n",
    "\n",
    "goodreads_df['Total Reviews'] = goodreads_df.iloc[:, 4:].sum(axis=1)\n",
    "total_reviews = sum(goodreads_df['Total Reviews'])"
   ]
  },
  {
   "cell_type": "markdown",
   "metadata": {},
   "source": [
    "_[This section outputs the data collected in a summary table. To do this, a dictionary is defined with the keys being the column headers and the values being the respective values calculated in the previous section.  The value author_count is in square brackets as based on the nature of the data being collected and analyzed in the previous section for author count, it is returned differently than the other variables and need to be interpreted as such.  Finally the code prints the table just created with the summary data populated in it. ]_"
   ]
  },
  {
   "cell_type": "code",
   "execution_count": null,
   "metadata": {},
   "outputs": [],
   "source": [
    "summary_table = pd.DataFrame({\"Total Unique Authors\": [author_count],\n",
    "                              \"Earliest Year\": earliest_year,\n",
    "                              \"Latest Year\": latest_year,\n",
    "                              \"Total Reviews\": total_reviews})\n",
    "summary_table"
   ]
  }
 ],
 "metadata": {
  "kernelspec": {
   "display_name": "Python 3",
   "language": "python",
   "name": "python3"
  },
  "language_info": {
   "codemirror_mode": {
    "name": "ipython",
    "version": 3
   },
   "file_extension": ".py",
   "mimetype": "text/x-python",
   "name": "python",
   "nbconvert_exporter": "python",
   "pygments_lexer": "ipython3",
   "version": "3.7.3"
  }
 },
 "nbformat": 4,
 "nbformat_minor": 2
}
