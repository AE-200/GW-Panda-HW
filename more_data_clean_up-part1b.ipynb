{
 "cells": [
  {
   "cell_type": "code",
   "execution_count": null,
   "metadata": {},
   "outputs": [],
   "source": [
    "# Dependencies\n",
    "import pandas as pd\n",
    "import os\n",
    "import csv"
   ]
  },
  {
   "cell_type": "code",
   "execution_count": null,
   "metadata": {},
   "outputs": [],
   "source": [
    "# load CSV\n",
    "\n",
    "file= os.path.join(\"2016-FCC-New-Coders-Survey-Data.csv\")"
   ]
  },
  {
   "cell_type": "code",
   "execution_count": null,
   "metadata": {},
   "outputs": [],
   "source": [
    "# Read with pandas--low_memory required to suppress errors about mixed data types\n",
    "\n",
    "new_coders_df=pd.read_csv(file, encoding='iso-8859-1', low_memory=False)"
   ]
  },
  {
   "cell_type": "code",
   "execution_count": null,
   "metadata": {},
   "outputs": [],
   "source": [
    "# Take only columns 0, 1, 2, 3, 4, 6, 7, 8, 9, 10, 11, 29, 30, 32, 36, 37, 45, 48, 56, 110, 111\n",
    "\n",
    "reduced_coders_df=new_coders_df.iloc[:,[0,1,2,3,4,7,8,9,10,11,29,30,32,36,37,45,48,56,110,111]]\n",
    "reduced_coders_df.head()"
   ]
  },
  {
   "cell_type": "code",
   "execution_count": null,
   "metadata": {},
   "outputs": [],
   "source": [
    "# Change reading 0 and 1 to No and Yes, respectively\n",
    "\n",
    "reduced_coders_df= reduced_coders_df.replace({0.0:\"No\",1.0:\"Yes\"})\n",
    "reduced_coders_df.head()"
   ]
  },
  {
   "cell_type": "code",
   "execution_count": null,
   "metadata": {},
   "outputs": [],
   "source": [
    "# Extract rows for only those who attended a bootcamp\n",
    "\n",
    "attended_bootcamp=reduced_coders_df.loc[reduced_coders_df[\"AttendedBootcamp\"]==\"Yes\"]"
   ]
  },
  {
   "cell_type": "code",
   "execution_count": null,
   "metadata": {},
   "outputs": [],
   "source": [
    "# Create DataFrame of the different boot camps that had a significant number of attendees\n",
    "\n",
    "recommend_bootcamp=attended_bootcamp.replace({\"Yes\":1,\"No\":0})\n",
    "recommend_bootcamp=pd.DataFrame(recommend_bootcamp.groupby(\"BootcampName\")[\"BootcampRecommend\"]).sum()\n",
    "recommend_bootcamp.reset_index(inplace=True)\n",
    "\n",
    "bootcamp_name=pd.DataFrame(reduced_coders_df[\"BootcampName\"].value_counts())\n",
    "bootcamp_name.head()\n"
   ]
  },
  {
   "cell_type": "code",
   "execution_count": null,
   "metadata": {},
   "outputs": [],
   "source": [
    "# Count how many attendees of each bootcamp would recommend the bootcamp\n",
    "\n",
    "bootcamp_recommend_total=pd.DataFrame(reduced_coders_df[\"BootcampName\",\"BootcampRecommend\"]).count()"
   ]
  },
  {
   "cell_type": "code",
   "execution_count": null,
   "metadata": {},
   "outputs": [],
   "source": [
    "# Merge the two created data frames on the name of tbe bootcamp\n",
    "\n",
    "bootcamp_summary=pd.merge(bootcamp_name,recommend_bootcamp, on=\"BootcampName\")"
   ]
  },
  {
   "cell_type": "code",
   "execution_count": null,
   "metadata": {},
   "outputs": [],
   "source": [
    "# Calculate percentage of each bootcamp's students who are recommenders\n",
    "bootcamp_recommend=pd.DataFrame(reduced_coders_df[\"BootcampName\",\"BootcampRecommend\"]).value_counts()\n",
    "bootcamp_recommenders=(bootcamp_recommend/bootcamp_recommend_total)*100\n",
    "\n",
    "#Adding new column to the summarized data frame\n",
    "bootcamp_summary[\"Percentage Recommenders\"]=bootcamp_recommenders\n",
    "\n",
    "#Sorting dataframe in descending order\n",
    "\n",
    "bootcamp_summary=bootcamp_summary.sort-values(by=\"Percentage Recommenders\", ascending=False)\n",
    "\n",
    "#Formatting\n",
    "\n",
    "bootcamp_summary[\"Percentage Recommenders\"]=bootcamp_summary[\"Percentage Recommenders\"].map(\"{0:,.2f}%\".format)\n"
   ]
  },
  {
   "cell_type": "code",
   "execution_count": null,
   "metadata": {},
   "outputs": [],
   "source": [
    "# Export to excel and remove index\n",
    "\n",
    "bootcamp_summary.to_excel(\"bootcamppart2.xlsx\", index=False)"
   ]
  }
 ],
 "metadata": {
  "anaconda-cloud": {},
  "kernelspec": {
   "display_name": "Python 3",
   "language": "python",
   "name": "python3"
  },
  "language_info": {
   "codemirror_mode": {
    "name": "ipython",
    "version": 3
   },
   "file_extension": ".py",
   "mimetype": "text/x-python",
   "name": "python",
   "nbconvert_exporter": "python",
   "pygments_lexer": "ipython3",
   "version": "3.7.3"
  }
 },
 "nbformat": 4,
 "nbformat_minor": 2
}
