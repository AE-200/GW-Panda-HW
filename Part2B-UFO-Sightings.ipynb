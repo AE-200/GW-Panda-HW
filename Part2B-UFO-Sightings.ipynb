{
 "cells": [
  {
   "cell_type": "markdown",
   "metadata": {},
   "source": [
    "# UFO Sightings\n",
    "\n",
    "#### The objective of this assignment is for you to explain what is happening in each cell in clear, understandable language. \n",
    "\n",
    "#### _There is no need to code._ The code is there for you, and it already runs. Your task is only to explain what each line in each cell does.\n",
    "\n",
    "#### The placeholder cells should describe what happens in the cell below it."
   ]
  },
  {
   "cell_type": "markdown",
   "metadata": {},
   "source": [
    "**Example**: The cell below imports `pandas` as a dependency because `pandas` functions will be used throughout the program, such as the Pandas `DataFrame` as well as the `read_csv` function."
   ]
  },
  {
   "cell_type": "code",
   "execution_count": null,
   "metadata": {},
   "outputs": [],
   "source": [
    "import pandas as pd"
   ]
  },
  {
   "cell_type": "markdown",
   "metadata": {},
   "source": [
    "_[The csv_path defines the path to locate the csv file that will be analyzed. The ufo_df variable name is being assigned to the csv file being imported as a data frame using the read_csv function attribute of pandas. Next, a preview of the data is displayed using the .head() attribute of the data frame.  This function will display the first five rows with the relevant headers of the data.]_"
   ]
  },
  {
   "cell_type": "code",
   "execution_count": null,
   "metadata": {},
   "outputs": [],
   "source": [
    "csv_path = \"Resources/ufoSightings.csv\"\n",
    "\n",
    "ufo_df = pd.read_csv(csv_path)\n",
    "\n",
    "ufo_df.head()"
   ]
  },
  {
   "cell_type": "markdown",
   "metadata": {},
   "source": [
    "_[The code below counts the number of entries in the dataframe just imported.  This count will be useful to calculate percentages if for example the percentage of sightings in a particular state vs total sightings is required along with other such data analysis ]_"
   ]
  },
  {
   "cell_type": "code",
   "execution_count": null,
   "metadata": {},
   "outputs": [],
   "source": [
    "ufo_df.count()"
   ]
  },
  {
   "cell_type": "markdown",
   "metadata": {},
   "source": [
    "_[The code below is cleaning the dataset just imported to remove missing values. The use of the dropna function will exclude rows or columns with any missing value(s). Since how is set to any, once a row or column is found with any missing value, that row or column will be dropped.  This has its advantages and disadvantages.  An obvious advantage is that the dataset will be fully populated and as such will be more elegant to work with since comparisons can be made across all areas of the dataset. Additionally, less errors are likely to occur as a result of passing null values to calculation functions. However, the drawback to this approach is that otherwise important data may get cut as a part of the reduction process.]_"
   ]
  },
  {
   "cell_type": "code",
   "execution_count": null,
   "metadata": {},
   "outputs": [],
   "source": [
    "clean_ufo_df = ufo_df.dropna(how=\"any\")\n",
    "clean_ufo_df.count()"
   ]
  },
  {
   "cell_type": "markdown",
   "metadata": {},
   "source": [
    "_[This section is determining data on the sightings in the US using the data frame that was created after the null values were removed. To do this, a variable called columns is created with a list of the respective data points that are needed for each sighting.  This variable is then passed to to the loc function with a filter of country being equal to the US. The result of this is datapoints from columns on all the sightings in the US. This is stored in a dataframe called usa_info_df.  Finally a preview of the dataframe is printed using the .head() function which will print the first five rows of the dataframe with the relevant headers in columns list.]_"
   ]
  },
  {
   "cell_type": "code",
   "execution_count": null,
   "metadata": {},
   "outputs": [],
   "source": [
    "columns = [\n",
    "    \"datetime\",\n",
    "    \"city\",\n",
    "    \"state\",\n",
    "    \"country\",\n",
    "    \"shape\",\n",
    "    \"duration (seconds)\",\n",
    "    \"duration (hours/min)\",\n",
    "    \"comments\",\n",
    "    \"date posted\"\n",
    "]\n",
    "\n",
    "usa_ufo_df = clean_ufo_df.loc[clean_ufo_df[\"country\"] == \"us\", columns]\n",
    "usa_ufo_df.head()"
   ]
  },
  {
   "cell_type": "markdown",
   "metadata": {},
   "source": [
    "_[The code below further analyzes the data frame created in the previous cell to determine the sightings by state. This is done by using the value_counts() function.  The dataframe is then printed.  The value_counts() function can be used to determine respective values of data points within a dataset and in an example such as this is very useful to determine sub level group counts.]_"
   ]
  },
  {
   "cell_type": "code",
   "execution_count": null,
   "metadata": {},
   "outputs": [],
   "source": [
    "state_counts = usa_ufo_df[\"state\"].value_counts()\n",
    "state_counts"
   ]
  },
  {
   "cell_type": "markdown",
   "metadata": {},
   "source": [
    "_[The previous cell returns a list of the respective states and their corresponding number of sightings.  This data is then used to create a dataframe called state_ufo_counts.  Again, a preview of this is printed using the .head() function.]_"
   ]
  },
  {
   "cell_type": "code",
   "execution_count": null,
   "metadata": {},
   "outputs": [],
   "source": [
    "state_ufo_counts_df = pd.DataFrame(state_counts)\n",
    "state_ufo_counts_df.head()"
   ]
  },
  {
   "cell_type": "markdown",
   "metadata": {},
   "source": [
    "_[Now that the total sightings per state has been calculated, it will be useful to label the columns with an appropriate name that describes its contents.  The cell below renames the relevant columns of state and Sum of Sightings.  Finally, a preview of the state_ufo_counts_df is printed showing the first five rows and the renamed headers.]_"
   ]
  },
  {
   "cell_type": "code",
   "execution_count": null,
   "metadata": {},
   "outputs": [],
   "source": [
    "state_ufo_counts_df = state_ufo_counts_df.rename(\n",
    "    columns={\"state\": \"Sum of Sightings\"})\n",
    "state_ufo_counts_df.head()"
   ]
  },
  {
   "cell_type": "markdown",
   "metadata": {},
   "source": [
    "_[The dtpe function will give the datatypes of all the relevant data contained in the dataframe.  This is useful as it helps to determine how to manipulate the data contained in the data frame when needed.]_"
   ]
  },
  {
   "cell_type": "code",
   "execution_count": null,
   "metadata": {},
   "outputs": [],
   "source": [
    "usa_ufo_df.dtypes"
   ]
  },
  {
   "cell_type": "markdown",
   "metadata": {},
   "source": [
    "_[The cells below are returning the duration of all sightings in the US as a type of float.  This is quite useful as it will enable mathematical functions to be executed on the data in this column. For example average time of sightings on this column category can be calculated.]_"
   ]
  },
  {
   "cell_type": "code",
   "execution_count": null,
   "metadata": {},
   "outputs": [],
   "source": [
    "usa_ufo_df.loc[:, \"duration (seconds)\"] = usa_ufo_df[\"duration (seconds)\"].astype(\"float\")\n",
    "usa_ufo_df.dtypes"
   ]
  },
  {
   "cell_type": "markdown",
   "metadata": {},
   "source": [
    "_[The cell below sums the amount of seconds of sightings seen in the US. This was possible because data in the column was first converted to float enabling mathematical operations to be performed ]_"
   ]
  },
  {
   "cell_type": "code",
   "execution_count": null,
   "metadata": {},
   "outputs": [],
   "source": [
    "# Now it is possible to find the sum of seconds\n",
    "usa_ufo_df[\"duration (seconds)\"].sum()"
   ]
  },
  {
   "cell_type": "markdown",
   "metadata": {},
   "source": [
    "_[By passing a list comprising ofo state and city to the group by function, the output can be grouped by state and city. This provides a summary showing the number of sightings within a state and further sub-divided by cities within the state.]_"
   ]
  },
  {
   "cell_type": "code",
   "execution_count": null,
   "metadata": {},
   "outputs": [],
   "source": [
    "grouped_data = usa_ufo_df.groupby(['state', 'city'])\n",
    "\n",
    "# Hint: If you are counting records, you can use any column and get the same result. Try it.\n",
    "grouped_data['datetime'].count()"
   ]
  }
 ],
 "metadata": {
  "kernelspec": {
   "display_name": "Python 3",
   "language": "python",
   "name": "python3"
  },
  "language_info": {
   "codemirror_mode": {
    "name": "ipython",
    "version": 3
   },
   "file_extension": ".py",
   "mimetype": "text/x-python",
   "name": "python",
   "nbconvert_exporter": "python",
   "pygments_lexer": "ipython3",
   "version": "3.7.3"
  }
 },
 "nbformat": 4,
 "nbformat_minor": 2
}
